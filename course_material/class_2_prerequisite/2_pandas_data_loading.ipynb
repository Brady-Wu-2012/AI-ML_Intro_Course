{
 "cells": [
  {
   "cell_type": "markdown",
   "metadata": {},
   "source": [
    "### Note: \n",
    "Kaggle API/CLI way of downloading the dataset wse used below. \n",
    "https://www.kaggle.com/discussions/general/156610 \n"
   ]
  },
  {
   "cell_type": "code",
   "execution_count": 4,
   "metadata": {},
   "outputs": [
    {
     "name": "stdout",
     "output_type": "stream",
     "text": [
      "Requirement already satisfied: kaggle in /Users/yusali/miniforge3/envs/ML_intro/lib/python3.11/site-packages (1.6.17)\n",
      "Requirement already satisfied: six>=1.10 in /Users/yusali/miniforge3/envs/ML_intro/lib/python3.11/site-packages (from kaggle) (1.16.0)\n",
      "Requirement already satisfied: certifi>=2023.7.22 in /Users/yusali/miniforge3/envs/ML_intro/lib/python3.11/site-packages (from kaggle) (2024.7.4)\n",
      "Requirement already satisfied: python-dateutil in /Users/yusali/miniforge3/envs/ML_intro/lib/python3.11/site-packages (from kaggle) (2.9.0)\n",
      "Requirement already satisfied: requests in /Users/yusali/miniforge3/envs/ML_intro/lib/python3.11/site-packages (from kaggle) (2.32.3)\n",
      "Requirement already satisfied: tqdm in /Users/yusali/miniforge3/envs/ML_intro/lib/python3.11/site-packages (from kaggle) (4.66.5)\n",
      "Requirement already satisfied: python-slugify in /Users/yusali/miniforge3/envs/ML_intro/lib/python3.11/site-packages (from kaggle) (8.0.4)\n",
      "Requirement already satisfied: urllib3 in /Users/yusali/miniforge3/envs/ML_intro/lib/python3.11/site-packages (from kaggle) (2.2.2)\n",
      "Requirement already satisfied: bleach in /Users/yusali/miniforge3/envs/ML_intro/lib/python3.11/site-packages (from kaggle) (6.1.0)\n",
      "Requirement already satisfied: webencodings in /Users/yusali/miniforge3/envs/ML_intro/lib/python3.11/site-packages (from bleach->kaggle) (0.5.1)\n",
      "Requirement already satisfied: text-unidecode>=1.3 in /Users/yusali/miniforge3/envs/ML_intro/lib/python3.11/site-packages (from python-slugify->kaggle) (1.3)\n",
      "Requirement already satisfied: charset-normalizer<4,>=2 in /Users/yusali/miniforge3/envs/ML_intro/lib/python3.11/site-packages (from requests->kaggle) (3.3.2)\n",
      "Requirement already satisfied: idna<4,>=2.5 in /Users/yusali/miniforge3/envs/ML_intro/lib/python3.11/site-packages (from requests->kaggle) (3.7)\n"
     ]
    }
   ],
   "source": [
    "!pip install --user kaggle"
   ]
  },
  {
   "cell_type": "code",
   "execution_count": 8,
   "metadata": {},
   "outputs": [
    {
     "name": "stdout",
     "output_type": "stream",
     "text": [
      "ref                                                              title                                               size  lastUpdated          downloadCount  voteCount  usabilityRating  \n",
      "---------------------------------------------------------------  -------------------------------------------------  -----  -------------------  -------------  ---------  ---------------  \n",
      "nltkdata/reuters                                                 Reuters                                             13MB  2017-11-16 07:30:22           6221         60  0.8125           \n",
      "kanchana1990/global-news-engagement-on-social-media              Global News Engagement on Social Media             261KB  2024-03-15 05:12:13           1631         42  1.0              \n",
      "notlucasp/financial-news-headlines                               Financial News Headlines Data                        4MB  2020-07-19 06:24:51           3886         35  1.0              \n",
      "saurabhshahane/fake-news-classification                          Fake News Classification                            92MB  2023-10-08 21:01:00          12740        108  1.0              \n",
      "davidwallach/financial-tweets                                    Financial Tweets                                     2MB  2018-08-09 17:13:55          12279        288  0.8235294        \n",
      "boldy717/reutersnltk                                             NLTK Reuters News Documents                          3MB  2019-01-16 01:04:50            783         10  0.64705884       \n",
      "narendrageek/reuters21578-multilabel-classification-news         MultiLabel Classification - Reuters News Dataset     7MB  2020-08-02 06:15:02            510          7  0.64705884       \n",
      "ukveteran/reuters                                                Reuters                                              7MB  2020-08-01 16:25:30             64          2  0.3125           \n",
      "joebeachcapital/the-economists-big-mac-index                     The Economist's Big Mac Index                      230KB  2023-10-23 05:52:29            853         30  1.0              \n",
      "thedevastator/uncovering-financial-insights-with-the-reuters-2   Reuters-21578 (Text Categorization)                 18MB  2022-12-02 11:22:10            603          3  0.9411765        \n",
      "piterfm/2022-ukraine-russian-war                                 2022 Russia Ukraine War                             30KB  2024-08-04 15:38:31          30293       1049  1.0              \n",
      "mrmorj/big-mac-index-data                                        Big Mac Index Data                                  65KB  2020-07-17 07:46:39           1790         17  1.0              \n",
      "utkarshx27/select-world-bank-commodity-price-data                Global Commodity Prices: Monthly Data (1960-2022)   32KB  2023-05-06 11:33:54           1576         40  1.0              \n",
      "mennaallahsaed/reuters21578                                      reuters21578                                         8MB  2024-04-28 17:00:49              6          2  0.875            \n",
      "feyzazkefe/reuters21578-sgm                                      Reuters21578 (sgm)                                   8MB  2021-06-02 09:28:36            115          4  0.5625           \n",
      "paultimothymooney/the-economists-big-mac-index                   The Economist's Big Mac Index                        2MB  2023-10-24 15:20:25           1418         48  0.8235294        \n",
      "rajkumarpandey02/highest-ranked-universities-in-global-rankings  Highest Ranked Universities in Global Rankings      22KB  2023-03-21 11:53:05           1209         43  0.9411765        \n",
      "stevenpeutz/misinformation-fake-news-text-dataset-79k            Misinformation & Fake News text dataset 79k         85MB  2022-05-09 15:51:30           2065         45  1.0              \n",
      "kaushiksuresh147/indianeedsoxygen-tweets                         #IndiaNeedsOxygen Tweets                             4MB  2021-11-14 14:27:13            427         27  1.0              \n",
      "wordroid/dataset-reuters-newswire-topics-in-keras                Dataset Reuters newswire topics in keras             2MB  2021-08-04 02:40:36            198          1  0.6875           \n"
     ]
    }
   ],
   "source": [
    "!kaggle datasets list -s reuters"
   ]
  },
  {
   "cell_type": "code",
   "execution_count": 12,
   "metadata": {},
   "outputs": [
    {
     "name": "stdout",
     "output_type": "stream",
     "text": [
      "Dataset URL: https://www.kaggle.com/datasets/thedevastator/uncovering-financial-insights-with-the-reuters-2\n",
      "License(s): CC0-1.0\n",
      "Downloading uncovering-financial-insights-with-the-reuters-2.zip to ../../data/kaggle_reuters\n",
      " 95%|████████████████████████████████████▏ | 17.0M/17.8M [00:00<00:00, 44.5MB/s]\n",
      "100%|██████████████████████████████████████| 17.8M/17.8M [00:00<00:00, 39.2MB/s]\n"
     ]
    }
   ],
   "source": [
    "!kaggle datasets download -d thedevastator/uncovering-financial-insights-with-the-reuters-2 -p ../../data/temp_large/kaggle_reuters --unzip "
   ]
  },
  {
   "cell_type": "code",
   "execution_count": 1,
   "metadata": {},
   "outputs": [
    {
     "name": "stdout",
     "output_type": "stream",
     "text": [
      "usage: kaggle datasets download [-h] [-f FILE_NAME] [-p PATH] [-w] [--unzip]\n",
      "                                [-o] [-q]\n",
      "                                [dataset]\n",
      "\n",
      "options:\n",
      "  -h, --help            show this help message and exit\n",
      "  dataset               Dataset URL suffix in format <owner>/<dataset-name> (use \"kaggle datasets list\" to show options)\n",
      "  -f FILE_NAME, --file FILE_NAME\n",
      "                        File name, all files downloaded if not provided\n",
      "                        (use \"kaggle datasets files -d <dataset>\" to show options)\n",
      "  -p PATH, --path PATH  Folder where file(s) will be downloaded, defaults to current working directory\n",
      "  -w, --wp              Download files to current working path\n",
      "  --unzip               Unzip the downloaded file. Will delete the zip file when completed.\n",
      "  -o, --force           Skip check whether local version of file is up to date, force file download\n",
      "  -q, --quiet           Suppress printing information about the upload/download progress\n"
     ]
    }
   ],
   "source": [
    "!kaggle datasets download -h"
   ]
  },
  {
   "cell_type": "code",
   "execution_count": null,
   "metadata": {},
   "outputs": [],
   "source": []
  },
  {
   "cell_type": "code",
   "execution_count": null,
   "metadata": {},
   "outputs": [],
   "source": [
    "import os\n",
    "from kaggle.api.kaggle_api_extended import KaggleApi"
   ]
  },
  {
   "cell_type": "code",
   "execution_count": 3,
   "metadata": {},
   "outputs": [],
   "source": [
    "import pandas as pd"
   ]
  },
  {
   "cell_type": "code",
   "execution_count": 4,
   "metadata": {},
   "outputs": [],
   "source": [
    "df = pd.read_csv(\"../../data/temp_large/kaggle_reuters/ModApte_test.csv\")"
   ]
  },
  {
   "cell_type": "code",
   "execution_count": 5,
   "metadata": {},
   "outputs": [
    {
     "data": {
      "text/html": [
       "<div>\n",
       "<style scoped>\n",
       "    .dataframe tbody tr th:only-of-type {\n",
       "        vertical-align: middle;\n",
       "    }\n",
       "\n",
       "    .dataframe tbody tr th {\n",
       "        vertical-align: top;\n",
       "    }\n",
       "\n",
       "    .dataframe thead th {\n",
       "        text-align: right;\n",
       "    }\n",
       "</style>\n",
       "<table border=\"1\" class=\"dataframe\">\n",
       "  <thead>\n",
       "    <tr style=\"text-align: right;\">\n",
       "      <th></th>\n",
       "      <th>text</th>\n",
       "      <th>text_type</th>\n",
       "      <th>topics</th>\n",
       "      <th>lewis_split</th>\n",
       "      <th>cgis_split</th>\n",
       "      <th>old_id</th>\n",
       "      <th>new_id</th>\n",
       "      <th>places</th>\n",
       "      <th>people</th>\n",
       "      <th>orgs</th>\n",
       "      <th>exchanges</th>\n",
       "      <th>date</th>\n",
       "      <th>title</th>\n",
       "    </tr>\n",
       "  </thead>\n",
       "  <tbody>\n",
       "    <tr>\n",
       "      <th>0</th>\n",
       "      <td>Mounting trade friction between the\\nU.S. And ...</td>\n",
       "      <td>\"NORM\"</td>\n",
       "      <td>['trade']</td>\n",
       "      <td>\"TEST\"</td>\n",
       "      <td>\"TRAINING-SET\"</td>\n",
       "      <td>\"3809\"</td>\n",
       "      <td>\"14826\"</td>\n",
       "      <td>['hong-kong' 'usa' 'japan' 'taiwan' 'malaysia'...</td>\n",
       "      <td>[]</td>\n",
       "      <td>[]</td>\n",
       "      <td>[]</td>\n",
       "      <td>8-APR-1987 01:03:47.52</td>\n",
       "      <td>ASIAN EXPORTERS FEAR DAMAGE FROM U.S.-JAPAN RIFT</td>\n",
       "    </tr>\n",
       "    <tr>\n",
       "      <th>1</th>\n",
       "      <td>A survey of 19 provinces and seven cities\\nsho...</td>\n",
       "      <td>\"NORM\"</td>\n",
       "      <td>['grain']</td>\n",
       "      <td>\"TEST\"</td>\n",
       "      <td>\"TRAINING-SET\"</td>\n",
       "      <td>\"3811\"</td>\n",
       "      <td>\"14828\"</td>\n",
       "      <td>['china']</td>\n",
       "      <td>[]</td>\n",
       "      <td>[]</td>\n",
       "      <td>[]</td>\n",
       "      <td>8-APR-1987 01:19:17.29</td>\n",
       "      <td>CHINA DAILY SAYS VERMIN EAT 7-12 PCT GRAIN STOCKS</td>\n",
       "    </tr>\n",
       "    <tr>\n",
       "      <th>2</th>\n",
       "      <td>The Ministry of International Trade and\\nIndus...</td>\n",
       "      <td>\"NORM\"</td>\n",
       "      <td>['crude' 'nat-gas']</td>\n",
       "      <td>\"TEST\"</td>\n",
       "      <td>\"TRAINING-SET\"</td>\n",
       "      <td>\"4356\"</td>\n",
       "      <td>\"14829\"</td>\n",
       "      <td>['japan']</td>\n",
       "      <td>[]</td>\n",
       "      <td>[]</td>\n",
       "      <td>[]</td>\n",
       "      <td>8-APR-1987 01:22:17.25</td>\n",
       "      <td>JAPAN TO REVISE LONG-TERM ENERGY DEMAND DOWNWARDS</td>\n",
       "    </tr>\n",
       "    <tr>\n",
       "      <th>3</th>\n",
       "      <td>Thailand's trade deficit widened to 4.5\\nbilli...</td>\n",
       "      <td>\"NORM\"</td>\n",
       "      <td>['trade' 'grain' 'rice' 'corn' 'sugar' 'tin' '...</td>\n",
       "      <td>\"TEST\"</td>\n",
       "      <td>\"TRAINING-SET\"</td>\n",
       "      <td>\"3815\"</td>\n",
       "      <td>\"14832\"</td>\n",
       "      <td>['thailand']</td>\n",
       "      <td>[]</td>\n",
       "      <td>[]</td>\n",
       "      <td>[]</td>\n",
       "      <td>8-APR-1987 01:45:09.09</td>\n",
       "      <td>THAI TRADE DEFICIT WIDENS IN FIRST QUARTER</td>\n",
       "    </tr>\n",
       "    <tr>\n",
       "      <th>4</th>\n",
       "      <td>Indonesia expects crude palm oil (CPO)\\nprices...</td>\n",
       "      <td>\"NORM\"</td>\n",
       "      <td>['veg-oil' 'palm-oil']</td>\n",
       "      <td>\"TEST\"</td>\n",
       "      <td>\"TRAINING-SET\"</td>\n",
       "      <td>\"3816\"</td>\n",
       "      <td>\"14833\"</td>\n",
       "      <td>['indonesia' 'malaysia']</td>\n",
       "      <td>[]</td>\n",
       "      <td>[]</td>\n",
       "      <td>[]</td>\n",
       "      <td>8-APR-1987 01:48:20.11</td>\n",
       "      <td>INDONESIA SEES CPO PRICE RISING SHARPLY</td>\n",
       "    </tr>\n",
       "  </tbody>\n",
       "</table>\n",
       "</div>"
      ],
      "text/plain": [
       "                                                text text_type  \\\n",
       "0  Mounting trade friction between the\\nU.S. And ...    \"NORM\"   \n",
       "1  A survey of 19 provinces and seven cities\\nsho...    \"NORM\"   \n",
       "2  The Ministry of International Trade and\\nIndus...    \"NORM\"   \n",
       "3  Thailand's trade deficit widened to 4.5\\nbilli...    \"NORM\"   \n",
       "4  Indonesia expects crude palm oil (CPO)\\nprices...    \"NORM\"   \n",
       "\n",
       "                                              topics lewis_split  \\\n",
       "0                                          ['trade']      \"TEST\"   \n",
       "1                                          ['grain']      \"TEST\"   \n",
       "2                                ['crude' 'nat-gas']      \"TEST\"   \n",
       "3  ['trade' 'grain' 'rice' 'corn' 'sugar' 'tin' '...      \"TEST\"   \n",
       "4                             ['veg-oil' 'palm-oil']      \"TEST\"   \n",
       "\n",
       "       cgis_split  old_id   new_id  \\\n",
       "0  \"TRAINING-SET\"  \"3809\"  \"14826\"   \n",
       "1  \"TRAINING-SET\"  \"3811\"  \"14828\"   \n",
       "2  \"TRAINING-SET\"  \"4356\"  \"14829\"   \n",
       "3  \"TRAINING-SET\"  \"3815\"  \"14832\"   \n",
       "4  \"TRAINING-SET\"  \"3816\"  \"14833\"   \n",
       "\n",
       "                                              places people orgs exchanges  \\\n",
       "0  ['hong-kong' 'usa' 'japan' 'taiwan' 'malaysia'...     []   []        []   \n",
       "1                                          ['china']     []   []        []   \n",
       "2                                          ['japan']     []   []        []   \n",
       "3                                       ['thailand']     []   []        []   \n",
       "4                           ['indonesia' 'malaysia']     []   []        []   \n",
       "\n",
       "                      date                                              title  \n",
       "0   8-APR-1987 01:03:47.52   ASIAN EXPORTERS FEAR DAMAGE FROM U.S.-JAPAN RIFT  \n",
       "1   8-APR-1987 01:19:17.29  CHINA DAILY SAYS VERMIN EAT 7-12 PCT GRAIN STOCKS  \n",
       "2   8-APR-1987 01:22:17.25  JAPAN TO REVISE LONG-TERM ENERGY DEMAND DOWNWARDS  \n",
       "3   8-APR-1987 01:45:09.09         THAI TRADE DEFICIT WIDENS IN FIRST QUARTER  \n",
       "4   8-APR-1987 01:48:20.11            INDONESIA SEES CPO PRICE RISING SHARPLY  "
      ]
     },
     "execution_count": 5,
     "metadata": {},
     "output_type": "execute_result"
    }
   ],
   "source": [
    "df.head()"
   ]
  },
  {
   "cell_type": "code",
   "execution_count": 6,
   "metadata": {},
   "outputs": [
    {
     "data": {
      "text/plain": [
       "(3299, 13)"
      ]
     },
     "execution_count": 6,
     "metadata": {},
     "output_type": "execute_result"
    }
   ],
   "source": [
    "df.shape"
   ]
  },
  {
   "cell_type": "code",
   "execution_count": 7,
   "metadata": {},
   "outputs": [
    {
     "data": {
      "text/html": [
       "<div>\n",
       "<style scoped>\n",
       "    .dataframe tbody tr th:only-of-type {\n",
       "        vertical-align: middle;\n",
       "    }\n",
       "\n",
       "    .dataframe tbody tr th {\n",
       "        vertical-align: top;\n",
       "    }\n",
       "\n",
       "    .dataframe thead th {\n",
       "        text-align: right;\n",
       "    }\n",
       "</style>\n",
       "<table border=\"1\" class=\"dataframe\">\n",
       "  <thead>\n",
       "    <tr style=\"text-align: right;\">\n",
       "      <th></th>\n",
       "      <th>text</th>\n",
       "      <th>text_type</th>\n",
       "      <th>topics</th>\n",
       "      <th>lewis_split</th>\n",
       "      <th>cgis_split</th>\n",
       "      <th>old_id</th>\n",
       "      <th>new_id</th>\n",
       "      <th>places</th>\n",
       "      <th>people</th>\n",
       "      <th>orgs</th>\n",
       "      <th>exchanges</th>\n",
       "      <th>date</th>\n",
       "      <th>title</th>\n",
       "    </tr>\n",
       "  </thead>\n",
       "  <tbody>\n",
       "    <tr>\n",
       "      <th>count</th>\n",
       "      <td>3023</td>\n",
       "      <td>3299</td>\n",
       "      <td>3299</td>\n",
       "      <td>3299</td>\n",
       "      <td>3299</td>\n",
       "      <td>3299</td>\n",
       "      <td>3299</td>\n",
       "      <td>3299</td>\n",
       "      <td>3299</td>\n",
       "      <td>3299</td>\n",
       "      <td>3299</td>\n",
       "      <td>3299</td>\n",
       "      <td>3285</td>\n",
       "    </tr>\n",
       "    <tr>\n",
       "      <th>unique</th>\n",
       "      <td>3004</td>\n",
       "      <td>3</td>\n",
       "      <td>258</td>\n",
       "      <td>1</td>\n",
       "      <td>1</td>\n",
       "      <td>3299</td>\n",
       "      <td>3299</td>\n",
       "      <td>359</td>\n",
       "      <td>76</td>\n",
       "      <td>22</td>\n",
       "      <td>13</td>\n",
       "      <td>3299</td>\n",
       "      <td>3220</td>\n",
       "    </tr>\n",
       "    <tr>\n",
       "      <th>top</th>\n",
       "      <td>The leaders of two of Japan's top business\\ngr...</td>\n",
       "      <td>\"NORM\"</td>\n",
       "      <td>['earn']</td>\n",
       "      <td>\"TEST\"</td>\n",
       "      <td>\"TRAINING-SET\"</td>\n",
       "      <td>\"3809\"</td>\n",
       "      <td>\"14826\"</td>\n",
       "      <td>['usa']</td>\n",
       "      <td>[]</td>\n",
       "      <td>[]</td>\n",
       "      <td>[]</td>\n",
       "      <td>8-APR-1987 01:03:47.52</td>\n",
       "      <td>PROPOSED OFFERINGS RECENTLY FILED WITH THE SEC</td>\n",
       "    </tr>\n",
       "    <tr>\n",
       "      <th>freq</th>\n",
       "      <td>2</td>\n",
       "      <td>3009</td>\n",
       "      <td>1083</td>\n",
       "      <td>3299</td>\n",
       "      <td>3299</td>\n",
       "      <td>1</td>\n",
       "      <td>1</td>\n",
       "      <td>1786</td>\n",
       "      <td>3127</td>\n",
       "      <td>3132</td>\n",
       "      <td>3276</td>\n",
       "      <td>1</td>\n",
       "      <td>4</td>\n",
       "    </tr>\n",
       "  </tbody>\n",
       "</table>\n",
       "</div>"
      ],
      "text/plain": [
       "                                                     text text_type    topics  \\\n",
       "count                                                3023      3299      3299   \n",
       "unique                                               3004         3       258   \n",
       "top     The leaders of two of Japan's top business\\ngr...    \"NORM\"  ['earn']   \n",
       "freq                                                    2      3009      1083   \n",
       "\n",
       "       lewis_split      cgis_split  old_id   new_id   places people  orgs  \\\n",
       "count         3299            3299    3299     3299     3299   3299  3299   \n",
       "unique           1               1    3299     3299      359     76    22   \n",
       "top         \"TEST\"  \"TRAINING-SET\"  \"3809\"  \"14826\"  ['usa']     []    []   \n",
       "freq          3299            3299       1        1     1786   3127  3132   \n",
       "\n",
       "       exchanges                     date  \\\n",
       "count       3299                     3299   \n",
       "unique        13                     3299   \n",
       "top           []   8-APR-1987 01:03:47.52   \n",
       "freq        3276                        1   \n",
       "\n",
       "                                                 title  \n",
       "count                                             3285  \n",
       "unique                                            3220  \n",
       "top     PROPOSED OFFERINGS RECENTLY FILED WITH THE SEC  \n",
       "freq                                                 4  "
      ]
     },
     "execution_count": 7,
     "metadata": {},
     "output_type": "execute_result"
    }
   ],
   "source": [
    "df.describe()"
   ]
  },
  {
   "cell_type": "code",
   "execution_count": null,
   "metadata": {},
   "outputs": [],
   "source": []
  }
 ],
 "metadata": {
  "kernelspec": {
   "display_name": "ML_intro",
   "language": "python",
   "name": "python3"
  },
  "language_info": {
   "codemirror_mode": {
    "name": "ipython",
    "version": 3
   },
   "file_extension": ".py",
   "mimetype": "text/x-python",
   "name": "python",
   "nbconvert_exporter": "python",
   "pygments_lexer": "ipython3",
   "version": "3.11.9"
  }
 },
 "nbformat": 4,
 "nbformat_minor": 2
}
