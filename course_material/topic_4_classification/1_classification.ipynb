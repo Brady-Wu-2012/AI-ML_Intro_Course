{
 "cells": [
  {
   "cell_type": "markdown",
   "metadata": {},
   "source": [
    "# In-class classification exercise\n",
    "\n",
    "## Just like what we did in the regression exercise, do the following: \n",
    "\n",
    "0. Fork the course project \n",
    "1. Find a dataset (Kaggle, Sci-kit learn, Hugging Face, ...)\n",
    "2. EDA on the data \n",
    "3. Select the feature\n",
    "4. Build a model using Logistic regression \n",
    "5. Evaluate the model you just built with the according metrices \n",
    "6. Git add, commit and push to your fork \n",
    "7. Create a Pull Request on your work"
   ]
  }
 ],
 "metadata": {
  "language_info": {
   "name": "python"
  }
 },
 "nbformat": 4,
 "nbformat_minor": 2
}
